{
  "nbformat": 4,
  "nbformat_minor": 0,
  "metadata": {
    "colab": {
      "name": "stock price predection.ipynb",
      "provenance": [],
      "toc_visible": true,
      "include_colab_link": true
    },
    "kernelspec": {
      "name": "python3",
      "display_name": "Python 3"
    }
  },
  "cells": [
    {
      "cell_type": "markdown",
      "metadata": {
        "id": "view-in-github",
        "colab_type": "text"
      },
      "source": [
        "<a href=\"https://colab.research.google.com/github/PatrickChrist/applied-ai/blob/main/stock_price_prediction.ipynb\" target=\"_parent\"><img src=\"https://colab.research.google.com/assets/colab-badge.svg\" alt=\"Open In Colab\"/></a>"
      ]
    },
    {
      "cell_type": "markdown",
      "metadata": {
        "id": "QI4PhD_bi9dN"
      },
      "source": [
        "## **Importing Libraries**"
      ]
    },
    {
      "cell_type": "code",
      "metadata": {
        "id": "YXHg0pu9qDTD",
        "colab": {
          "base_uri": "https://localhost:8080/",
          "height": 334
        },
        "outputId": "985f7725-1e36-4764-8f1f-a33b652d1308"
      },
      "source": [
        "import numpy as np\n",
        "import pandas as pd\n",
        "import matplotlib.pyplot as plt\n"
      ],
      "execution_count": 25,
      "outputs": [
        {
          "output_type": "error",
          "ename": "ModuleNotFoundError",
          "evalue": "ignored",
          "traceback": [
            "\u001b[0;31m---------------------------------------------------------------------------\u001b[0m",
            "\u001b[0;31mModuleNotFoundError\u001b[0m                       Traceback (most recent call last)",
            "\u001b[0;32m<ipython-input-25-d7ea4325e5e6>\u001b[0m in \u001b[0;36m<module>\u001b[0;34m()\u001b[0m\n\u001b[1;32m      2\u001b[0m \u001b[0;32mimport\u001b[0m \u001b[0mpandas\u001b[0m \u001b[0;32mas\u001b[0m \u001b[0mpd\u001b[0m\u001b[0;34m\u001b[0m\u001b[0;34m\u001b[0m\u001b[0m\n\u001b[1;32m      3\u001b[0m \u001b[0;32mimport\u001b[0m \u001b[0mmatplotlib\u001b[0m\u001b[0;34m.\u001b[0m\u001b[0mpyplot\u001b[0m \u001b[0;32mas\u001b[0m \u001b[0mplt\u001b[0m\u001b[0;34m\u001b[0m\u001b[0;34m\u001b[0m\u001b[0m\n\u001b[0;32m----> 4\u001b[0;31m \u001b[0;32mimport\u001b[0m \u001b[0myfinance\u001b[0m \u001b[0;32mas\u001b[0m \u001b[0myf\u001b[0m\u001b[0;34m\u001b[0m\u001b[0;34m\u001b[0m\u001b[0m\n\u001b[0m",
            "\u001b[0;31mModuleNotFoundError\u001b[0m: No module named 'yfinance'",
            "",
            "\u001b[0;31m---------------------------------------------------------------------------\u001b[0;32m\nNOTE: If your import is failing due to a missing package, you can\nmanually install dependencies using either !pip or !apt.\n\nTo view examples of installing some common dependencies, click the\n\"Open Examples\" button below.\n\u001b[0;31m---------------------------------------------------------------------------\u001b[0m\n"
          ]
        }
      ]
    },
    {
      "cell_type": "markdown",
      "metadata": {
        "id": "3J64HGEcjKho"
      },
      "source": [
        "## **Loading Our Dataset**"
      ]
    },
    {
      "cell_type": "code",
      "metadata": {
        "id": "5qgfVHweqKUK"
      },
      "source": [
        "from google.colab import files"
      ],
      "execution_count": 2,
      "outputs": []
    },
    {
      "cell_type": "code",
      "metadata": {
        "colab": {
          "base_uri": "https://localhost:8080/",
          "height": 688
        },
        "id": "4wCH8zfUrY4k",
        "outputId": "abc0f994-c434-40e9-e71b-b4cd7c6e7381"
      },
      "source": [
        "!pip install yfinance\n",
        "import yfinance as yf\n",
        "\n",
        "#Interval required 1 minute\n",
        "stock_data = yf.download(tickers='BMW.de', period='max', interval='1d')\n",
        "df = stock_data\n",
        "stock_data\n"
      ],
      "execution_count": 53,
      "outputs": [
        {
          "output_type": "stream",
          "text": [
            "Requirement already satisfied: yfinance in /usr/local/lib/python3.7/dist-packages (0.1.59)\n",
            "Requirement already satisfied: pandas>=0.24 in /usr/local/lib/python3.7/dist-packages (from yfinance) (1.1.5)\n",
            "Requirement already satisfied: numpy>=1.15 in /usr/local/lib/python3.7/dist-packages (from yfinance) (1.19.5)\n",
            "Requirement already satisfied: requests>=2.20 in /usr/local/lib/python3.7/dist-packages (from yfinance) (2.23.0)\n",
            "Requirement already satisfied: lxml>=4.5.1 in /usr/local/lib/python3.7/dist-packages (from yfinance) (4.6.3)\n",
            "Requirement already satisfied: multitasking>=0.0.7 in /usr/local/lib/python3.7/dist-packages (from yfinance) (0.0.9)\n",
            "Requirement already satisfied: python-dateutil>=2.7.3 in /usr/local/lib/python3.7/dist-packages (from pandas>=0.24->yfinance) (2.8.1)\n",
            "Requirement already satisfied: pytz>=2017.2 in /usr/local/lib/python3.7/dist-packages (from pandas>=0.24->yfinance) (2018.9)\n",
            "Requirement already satisfied: chardet<4,>=3.0.2 in /usr/local/lib/python3.7/dist-packages (from requests>=2.20->yfinance) (3.0.4)\n",
            "Requirement already satisfied: certifi>=2017.4.17 in /usr/local/lib/python3.7/dist-packages (from requests>=2.20->yfinance) (2020.12.5)\n",
            "Requirement already satisfied: idna<3,>=2.5 in /usr/local/lib/python3.7/dist-packages (from requests>=2.20->yfinance) (2.10)\n",
            "Requirement already satisfied: urllib3!=1.25.0,!=1.25.1,<1.26,>=1.21.1 in /usr/local/lib/python3.7/dist-packages (from requests>=2.20->yfinance) (1.24.3)\n",
            "Requirement already satisfied: six>=1.5 in /usr/local/lib/python3.7/dist-packages (from python-dateutil>=2.7.3->pandas>=0.24->yfinance) (1.15.0)\n",
            "[*********************100%***********************]  1 of 1 completed\n"
          ],
          "name": "stdout"
        },
        {
          "output_type": "execute_result",
          "data": {
            "text/html": [
              "<div>\n",
              "<style scoped>\n",
              "    .dataframe tbody tr th:only-of-type {\n",
              "        vertical-align: middle;\n",
              "    }\n",
              "\n",
              "    .dataframe tbody tr th {\n",
              "        vertical-align: top;\n",
              "    }\n",
              "\n",
              "    .dataframe thead th {\n",
              "        text-align: right;\n",
              "    }\n",
              "</style>\n",
              "<table border=\"1\" class=\"dataframe\">\n",
              "  <thead>\n",
              "    <tr style=\"text-align: right;\">\n",
              "      <th></th>\n",
              "      <th>Open</th>\n",
              "      <th>High</th>\n",
              "      <th>Low</th>\n",
              "      <th>Close</th>\n",
              "      <th>Adj Close</th>\n",
              "      <th>Volume</th>\n",
              "    </tr>\n",
              "    <tr>\n",
              "      <th>Date</th>\n",
              "      <th></th>\n",
              "      <th></th>\n",
              "      <th></th>\n",
              "      <th></th>\n",
              "      <th></th>\n",
              "      <th></th>\n",
              "    </tr>\n",
              "  </thead>\n",
              "  <tbody>\n",
              "    <tr>\n",
              "      <th>1996-11-08</th>\n",
              "      <td>18.209999</td>\n",
              "      <td>18.209999</td>\n",
              "      <td>18.171000</td>\n",
              "      <td>18.171000</td>\n",
              "      <td>10.041771</td>\n",
              "      <td>767000</td>\n",
              "    </tr>\n",
              "    <tr>\n",
              "      <th>1996-11-11</th>\n",
              "      <td>18.190001</td>\n",
              "      <td>18.200001</td>\n",
              "      <td>18.082001</td>\n",
              "      <td>18.122000</td>\n",
              "      <td>10.014695</td>\n",
              "      <td>260000</td>\n",
              "    </tr>\n",
              "    <tr>\n",
              "      <th>1996-11-12</th>\n",
              "      <td>18.160999</td>\n",
              "      <td>18.327999</td>\n",
              "      <td>18.091999</td>\n",
              "      <td>18.259001</td>\n",
              "      <td>10.090405</td>\n",
              "      <td>1066000</td>\n",
              "    </tr>\n",
              "    <tr>\n",
              "      <th>1996-11-13</th>\n",
              "      <td>18.344000</td>\n",
              "      <td>18.344000</td>\n",
              "      <td>18.190001</td>\n",
              "      <td>18.230000</td>\n",
              "      <td>10.074377</td>\n",
              "      <td>793000</td>\n",
              "    </tr>\n",
              "    <tr>\n",
              "      <th>1996-11-14</th>\n",
              "      <td>18.205000</td>\n",
              "      <td>18.289000</td>\n",
              "      <td>18.132000</td>\n",
              "      <td>18.289000</td>\n",
              "      <td>10.106983</td>\n",
              "      <td>351000</td>\n",
              "    </tr>\n",
              "    <tr>\n",
              "      <th>...</th>\n",
              "      <td>...</td>\n",
              "      <td>...</td>\n",
              "      <td>...</td>\n",
              "      <td>...</td>\n",
              "      <td>...</td>\n",
              "      <td>...</td>\n",
              "    </tr>\n",
              "    <tr>\n",
              "      <th>2021-06-01</th>\n",
              "      <td>87.669998</td>\n",
              "      <td>89.360001</td>\n",
              "      <td>87.669998</td>\n",
              "      <td>89.010002</td>\n",
              "      <td>89.010002</td>\n",
              "      <td>1163996</td>\n",
              "    </tr>\n",
              "    <tr>\n",
              "      <th>2021-06-02</th>\n",
              "      <td>89.220001</td>\n",
              "      <td>90.639999</td>\n",
              "      <td>88.830002</td>\n",
              "      <td>90.300003</td>\n",
              "      <td>90.300003</td>\n",
              "      <td>1217637</td>\n",
              "    </tr>\n",
              "    <tr>\n",
              "      <th>2021-06-03</th>\n",
              "      <td>90.500000</td>\n",
              "      <td>94.199997</td>\n",
              "      <td>90.370003</td>\n",
              "      <td>93.870003</td>\n",
              "      <td>93.870003</td>\n",
              "      <td>1908125</td>\n",
              "    </tr>\n",
              "    <tr>\n",
              "      <th>2021-06-04</th>\n",
              "      <td>94.000000</td>\n",
              "      <td>95.300003</td>\n",
              "      <td>93.680000</td>\n",
              "      <td>94.400002</td>\n",
              "      <td>94.400002</td>\n",
              "      <td>1551957</td>\n",
              "    </tr>\n",
              "    <tr>\n",
              "      <th>2021-06-07</th>\n",
              "      <td>94.769997</td>\n",
              "      <td>95.839996</td>\n",
              "      <td>94.169998</td>\n",
              "      <td>95.839996</td>\n",
              "      <td>95.839996</td>\n",
              "      <td>447226</td>\n",
              "    </tr>\n",
              "  </tbody>\n",
              "</table>\n",
              "<p>6299 rows × 6 columns</p>\n",
              "</div>"
            ],
            "text/plain": [
              "                 Open       High        Low      Close  Adj Close   Volume\n",
              "Date                                                                      \n",
              "1996-11-08  18.209999  18.209999  18.171000  18.171000  10.041771   767000\n",
              "1996-11-11  18.190001  18.200001  18.082001  18.122000  10.014695   260000\n",
              "1996-11-12  18.160999  18.327999  18.091999  18.259001  10.090405  1066000\n",
              "1996-11-13  18.344000  18.344000  18.190001  18.230000  10.074377   793000\n",
              "1996-11-14  18.205000  18.289000  18.132000  18.289000  10.106983   351000\n",
              "...               ...        ...        ...        ...        ...      ...\n",
              "2021-06-01  87.669998  89.360001  87.669998  89.010002  89.010002  1163996\n",
              "2021-06-02  89.220001  90.639999  88.830002  90.300003  90.300003  1217637\n",
              "2021-06-03  90.500000  94.199997  90.370003  93.870003  93.870003  1908125\n",
              "2021-06-04  94.000000  95.300003  93.680000  94.400002  94.400002  1551957\n",
              "2021-06-07  94.769997  95.839996  94.169998  95.839996  95.839996   447226\n",
              "\n",
              "[6299 rows x 6 columns]"
            ]
          },
          "metadata": {
            "tags": []
          },
          "execution_count": 53
        }
      ]
    },
    {
      "cell_type": "markdown",
      "metadata": {
        "id": "BRlUUY3XjXiz"
      },
      "source": [
        "## **Feature Extraction**"
      ]
    },
    {
      "cell_type": "markdown",
      "metadata": {
        "id": "Viji7Kqmjise"
      },
      "source": [
        " The number of the trading days and the columns: "
      ]
    },
    {
      "cell_type": "code",
      "metadata": {
        "colab": {
          "base_uri": "https://localhost:8080/"
        },
        "id": "bjWS33P7qZlU",
        "outputId": "5b8c7919-462a-45e6-d824-b043abe5633c"
      },
      "source": [
        "df.shape"
      ],
      "execution_count": 32,
      "outputs": [
        {
          "output_type": "execute_result",
          "data": {
            "text/plain": [
              "(6299, 6)"
            ]
          },
          "metadata": {
            "tags": []
          },
          "execution_count": 32
        }
      ]
    },
    {
      "cell_type": "code",
      "metadata": {
        "id": "PURXIHKhqbEk"
      },
      "source": [
        "df = df['Open'].values\n",
        "df = df.reshape(-1, 1)"
      ],
      "execution_count": 33,
      "outputs": []
    },
    {
      "cell_type": "markdown",
      "metadata": {
        "id": "WQpDveLjj1SG"
      },
      "source": [
        "After extracting one column:\n"
      ]
    },
    {
      "cell_type": "code",
      "metadata": {
        "colab": {
          "base_uri": "https://localhost:8080/"
        },
        "id": "6KsMByP1qcjE",
        "outputId": "26954c6e-7a9c-448c-aa81-35fd08b3ca54"
      },
      "source": [
        "df.shape"
      ],
      "execution_count": 34,
      "outputs": [
        {
          "output_type": "execute_result",
          "data": {
            "text/plain": [
              "(6299, 1)"
            ]
          },
          "metadata": {
            "tags": []
          },
          "execution_count": 34
        }
      ]
    },
    {
      "cell_type": "code",
      "metadata": {
        "colab": {
          "base_uri": "https://localhost:8080/"
        },
        "id": "khGr_t8Wqc5a",
        "outputId": "e2896b70-b313-45b3-dc3b-f2e2880664ae"
      },
      "source": [
        "dataset_train = np.array(df[:int(df.shape[0]*0.8)])\n",
        "dataset_test = np.array(df[int(df.shape[0]*0.8):])\n",
        "print(dataset_train.shape)\n",
        "print(dataset_test.shape)"
      ],
      "execution_count": 35,
      "outputs": [
        {
          "output_type": "stream",
          "text": [
            "(5039, 1)\n",
            "(1260, 1)\n"
          ],
          "name": "stdout"
        }
      ]
    },
    {
      "cell_type": "markdown",
      "metadata": {
        "id": "rZZjISlFkI-7"
      },
      "source": [
        "Importing our model:"
      ]
    },
    {
      "cell_type": "code",
      "metadata": {
        "id": "SifStIG0qeNf"
      },
      "source": [
        "from sklearn.preprocessing import MinMaxScaler\n",
        "from keras.models import Sequential, load_model\n",
        "from keras.layers import LSTM, Dense, Dropout"
      ],
      "execution_count": 36,
      "outputs": []
    },
    {
      "cell_type": "markdown",
      "metadata": {
        "id": "WLZ3gksMkbcL"
      },
      "source": [
        "Scaling data:"
      ]
    },
    {
      "cell_type": "code",
      "metadata": {
        "colab": {
          "base_uri": "https://localhost:8080/"
        },
        "id": "jOVxO2dtqfkt",
        "outputId": "a0ff05a0-74b2-40a8-a81c-18230423ccc8"
      },
      "source": [
        "scaler = MinMaxScaler(feature_range=(0,1))\n",
        "dataset_train = scaler.fit_transform(dataset_train)\n",
        "dataset_train[:5]"
      ],
      "execution_count": 37,
      "outputs": [
        {
          "output_type": "execute_result",
          "data": {
            "text/plain": [
              "array([[0.00877191],\n",
              "       [0.00858328],\n",
              "       [0.00830974],\n",
              "       [0.01003583],\n",
              "       [0.00872476]])"
            ]
          },
          "metadata": {
            "tags": []
          },
          "execution_count": 37
        }
      ]
    },
    {
      "cell_type": "code",
      "metadata": {
        "colab": {
          "base_uri": "https://localhost:8080/"
        },
        "id": "gOBYOoPwqhU8",
        "outputId": "e5932a9b-a52b-41dc-d51d-f4ba35f5d4a4"
      },
      "source": [
        "dataset_test = scaler.transform(dataset_test)\n",
        "dataset_test[:5]"
      ],
      "execution_count": 38,
      "outputs": [
        {
          "output_type": "execute_result",
          "data": {
            "text/plain": [
              "array([[0.47453306],\n",
              "       [0.48849272],\n",
              "       [0.50839463],\n",
              "       [0.5189587 ],\n",
              "       [0.52735333]])"
            ]
          },
          "metadata": {
            "tags": []
          },
          "execution_count": 38
        }
      ]
    },
    {
      "cell_type": "code",
      "metadata": {
        "id": "VhijBfE6qilr"
      },
      "source": [
        "def create_dataset(df):\n",
        "    x = []\n",
        "    y = []\n",
        "    for i in range(50, df.shape[0]):\n",
        "        x.append(df[i-50:i, 0])\n",
        "        y.append(df[i, 0])\n",
        "    x = np.array(x)\n",
        "    y = np.array(y)\n",
        "    return x,y "
      ],
      "execution_count": 39,
      "outputs": []
    },
    {
      "cell_type": "markdown",
      "metadata": {
        "id": "OsVjlf9kkkJd"
      },
      "source": [
        "Creating training and testing datasets:"
      ]
    },
    {
      "cell_type": "code",
      "metadata": {
        "id": "GTXlAaGeqkJu"
      },
      "source": [
        "x_train, y_train = create_dataset(dataset_train)\n",
        "x_test, y_test = create_dataset(dataset_test)"
      ],
      "execution_count": 40,
      "outputs": []
    },
    {
      "cell_type": "code",
      "metadata": {
        "colab": {
          "base_uri": "https://localhost:8080/"
        },
        "id": "YoX8nNlpIcO6",
        "outputId": "1da8e722-70e0-422d-e49c-6e0179116aa3"
      },
      "source": [
        "print(x_train.shape,y_train.shape)"
      ],
      "execution_count": 108,
      "outputs": [
        {
          "output_type": "stream",
          "text": [
            "(4989, 50, 1) (4989,)\n"
          ],
          "name": "stdout"
        }
      ]
    },
    {
      "cell_type": "markdown",
      "metadata": {
        "id": "eyHweGaykp-o"
      },
      "source": [
        "Creating our LSTM model:"
      ]
    },
    {
      "cell_type": "code",
      "metadata": {
        "id": "OYSeOZLpqlYG"
      },
      "source": [
        "model = Sequential()\n",
        "model.add(LSTM(units=96, return_sequences=True, input_shape=(x_train.shape[1], 1)))\n",
        "model.add(Dropout(0.2))\n",
        "model.add(LSTM(units=96, return_sequences=True))\n",
        "model.add(Dropout(0.2))\n",
        "model.add(LSTM(units=96, return_sequences=True))\n",
        "model.add(Dropout(0.2))\n",
        "model.add(LSTM(units=96))\n",
        "model.add(Dropout(0.2))\n",
        "model.add(Dense(units=1))"
      ],
      "execution_count": 41,
      "outputs": []
    },
    {
      "cell_type": "markdown",
      "metadata": {
        "id": "DI7acZOgkxxx"
      },
      "source": [
        "Reshape features for the LSTM layer:"
      ]
    },
    {
      "cell_type": "code",
      "metadata": {
        "id": "PiKmWbHNqmqI"
      },
      "source": [
        "x_train = np.reshape(x_train, (x_train.shape[0], x_train.shape[1], 1))\n",
        "x_test = np.reshape(x_test, (x_test.shape[0], x_test.shape[1], 1))"
      ],
      "execution_count": 42,
      "outputs": []
    },
    {
      "cell_type": "code",
      "metadata": {
        "id": "44ci17U6qoD8"
      },
      "source": [
        "model.compile(loss='mean_squared_error', optimizer='adam')"
      ],
      "execution_count": 43,
      "outputs": []
    },
    {
      "cell_type": "markdown",
      "metadata": {
        "id": "W3IkxLMflKwP"
      },
      "source": [
        "Start the training:"
      ]
    },
    {
      "cell_type": "code",
      "metadata": {
        "colab": {
          "base_uri": "https://localhost:8080/"
        },
        "id": "vo6cTmcsqpND",
        "outputId": "e7723f8e-aa15-450a-9ca9-967bcb1591cc"
      },
      "source": [
        "model.fit(x_train, y_train, epochs=50, batch_size=32)\n",
        "model.save('stock_prediction.h5')"
      ],
      "execution_count": 44,
      "outputs": [
        {
          "output_type": "stream",
          "text": [
            "Epoch 1/50\n",
            "156/156 [==============================] - 32s 158ms/step - loss: 0.0120\n",
            "Epoch 2/50\n",
            "156/156 [==============================] - 25s 160ms/step - loss: 0.0015\n",
            "Epoch 3/50\n",
            "156/156 [==============================] - 25s 159ms/step - loss: 0.0014\n",
            "Epoch 4/50\n",
            "156/156 [==============================] - 25s 159ms/step - loss: 0.0013\n",
            "Epoch 5/50\n",
            "156/156 [==============================] - 25s 159ms/step - loss: 0.0011\n",
            "Epoch 6/50\n",
            "156/156 [==============================] - 25s 159ms/step - loss: 0.0011\n",
            "Epoch 7/50\n",
            "156/156 [==============================] - 25s 159ms/step - loss: 9.4328e-04\n",
            "Epoch 8/50\n",
            "156/156 [==============================] - 25s 160ms/step - loss: 8.5193e-04\n",
            "Epoch 9/50\n",
            "156/156 [==============================] - 25s 160ms/step - loss: 8.9138e-04\n",
            "Epoch 10/50\n",
            "156/156 [==============================] - 25s 159ms/step - loss: 7.5752e-04\n",
            "Epoch 11/50\n",
            "156/156 [==============================] - 25s 159ms/step - loss: 7.3882e-04\n",
            "Epoch 12/50\n",
            "156/156 [==============================] - 25s 159ms/step - loss: 8.3072e-04\n",
            "Epoch 13/50\n",
            "156/156 [==============================] - 25s 160ms/step - loss: 6.2463e-04\n",
            "Epoch 14/50\n",
            "156/156 [==============================] - 25s 160ms/step - loss: 7.0309e-04\n",
            "Epoch 15/50\n",
            "156/156 [==============================] - 25s 159ms/step - loss: 7.1993e-04\n",
            "Epoch 16/50\n",
            "156/156 [==============================] - 25s 159ms/step - loss: 6.9325e-04\n",
            "Epoch 17/50\n",
            "156/156 [==============================] - 25s 159ms/step - loss: 5.3298e-04\n",
            "Epoch 18/50\n",
            "156/156 [==============================] - 25s 159ms/step - loss: 6.4570e-04\n",
            "Epoch 19/50\n",
            "156/156 [==============================] - 25s 159ms/step - loss: 6.2072e-04\n",
            "Epoch 20/50\n",
            "156/156 [==============================] - 25s 159ms/step - loss: 5.0702e-04\n",
            "Epoch 21/50\n",
            "156/156 [==============================] - 25s 159ms/step - loss: 6.7842e-04\n",
            "Epoch 22/50\n",
            "156/156 [==============================] - 25s 159ms/step - loss: 5.1124e-04\n",
            "Epoch 23/50\n",
            "156/156 [==============================] - 25s 159ms/step - loss: 5.2340e-04\n",
            "Epoch 24/50\n",
            "156/156 [==============================] - 25s 161ms/step - loss: 5.5354e-04\n",
            "Epoch 25/50\n",
            "156/156 [==============================] - 25s 160ms/step - loss: 5.4980e-04\n",
            "Epoch 26/50\n",
            "156/156 [==============================] - 25s 159ms/step - loss: 5.4255e-04\n",
            "Epoch 27/50\n",
            "156/156 [==============================] - 25s 160ms/step - loss: 5.0687e-04\n",
            "Epoch 28/50\n",
            "156/156 [==============================] - 25s 160ms/step - loss: 4.5244e-04\n",
            "Epoch 29/50\n",
            "156/156 [==============================] - 25s 160ms/step - loss: 5.0001e-04\n",
            "Epoch 30/50\n",
            "156/156 [==============================] - 25s 160ms/step - loss: 5.0830e-04\n",
            "Epoch 31/50\n",
            "156/156 [==============================] - 25s 160ms/step - loss: 4.6122e-04\n",
            "Epoch 32/50\n",
            "156/156 [==============================] - 25s 161ms/step - loss: 5.0082e-04\n",
            "Epoch 33/50\n",
            "156/156 [==============================] - 25s 161ms/step - loss: 4.7367e-04\n",
            "Epoch 34/50\n",
            "156/156 [==============================] - 25s 160ms/step - loss: 5.6878e-04\n",
            "Epoch 35/50\n",
            "156/156 [==============================] - 25s 160ms/step - loss: 3.8543e-04\n",
            "Epoch 36/50\n",
            "156/156 [==============================] - 25s 160ms/step - loss: 5.0066e-04\n",
            "Epoch 37/50\n",
            "156/156 [==============================] - 25s 160ms/step - loss: 6.1943e-04\n",
            "Epoch 38/50\n",
            "156/156 [==============================] - 25s 160ms/step - loss: 4.3679e-04\n",
            "Epoch 39/50\n",
            "156/156 [==============================] - 25s 160ms/step - loss: 5.1554e-04\n",
            "Epoch 40/50\n",
            "156/156 [==============================] - 25s 161ms/step - loss: 4.2637e-04\n",
            "Epoch 41/50\n",
            "156/156 [==============================] - 25s 161ms/step - loss: 4.2509e-04\n",
            "Epoch 42/50\n",
            "156/156 [==============================] - 25s 159ms/step - loss: 5.2791e-04\n",
            "Epoch 43/50\n",
            "156/156 [==============================] - 25s 160ms/step - loss: 4.0225e-04\n",
            "Epoch 44/50\n",
            "156/156 [==============================] - 25s 160ms/step - loss: 4.8989e-04\n",
            "Epoch 45/50\n",
            "156/156 [==============================] - 25s 160ms/step - loss: 3.7626e-04\n",
            "Epoch 46/50\n",
            "156/156 [==============================] - 25s 160ms/step - loss: 4.1123e-04\n",
            "Epoch 47/50\n",
            "156/156 [==============================] - 25s 160ms/step - loss: 3.5093e-04\n",
            "Epoch 48/50\n",
            "156/156 [==============================] - 25s 160ms/step - loss: 3.8860e-04\n",
            "Epoch 49/50\n",
            "156/156 [==============================] - 25s 160ms/step - loss: 4.5976e-04\n",
            "Epoch 50/50\n",
            "156/156 [==============================] - 25s 160ms/step - loss: 4.5057e-04\n"
          ],
          "name": "stdout"
        }
      ]
    },
    {
      "cell_type": "code",
      "metadata": {
        "id": "U7dv9iH5qrj3"
      },
      "source": [
        "model = load_model('stock_prediction.h5')"
      ],
      "execution_count": 101,
      "outputs": []
    },
    {
      "cell_type": "markdown",
      "metadata": {
        "id": "lcjQocoRlO2J"
      },
      "source": [
        "## **Results visualization**"
      ]
    },
    {
      "cell_type": "code",
      "metadata": {
        "colab": {
          "base_uri": "https://localhost:8080/",
          "height": 530
        },
        "id": "qBduTqNBso4K",
        "outputId": "6cf5cf22-5fbc-49d1-9671-0cc4fb25645e"
      },
      "source": [
        "predictions = model.predict(x_test)\n",
        "predictions = scaler.inverse_transform(predictions)\n",
        "y_test_scaled = scaler.inverse_transform(y_test.reshape(-1, 1))\n",
        "\n",
        "# Set the right time on the x axis\n",
        "x_t = stock_data.index[int(stock_data.index.shape[0]*0.8):]\n",
        "x_t = x_t[50:]\n",
        "fig, ax = plt.subplots(figsize=(16,8))\n",
        "ax.set_facecolor('#000041')\n",
        "ax.plot(x_t, y_test_scaled, color='red', label='Original price')\n",
        "\n",
        "plt.plot(x_t, predictions, color='cyan', label='Predicted price')\n",
        "plt.ylabel(\"Stock price in Euro\")\n",
        "plt.xlabel(\"Time\")\n",
        "plt.title(\"BMW Stock Price Prediction with RNN\")\n",
        "plt.legend()"
      ],
      "execution_count": 102,
      "outputs": [
        {
          "output_type": "execute_result",
          "data": {
            "text/plain": [
              "<matplotlib.legend.Legend at 0x7fc5f9c47d10>"
            ]
          },
          "metadata": {
            "tags": []
          },
          "execution_count": 102
        },
        {
          "output_type": "display_data",
          "data": {
            "image/png": "[encoded data removed]",
            "text/plain": [
              "<Figure size 1152x576 with 1 Axes>"
            ]
          },
          "metadata": {
            "tags": [],
            "needs_background": "light"
          }
        }
      ]
    },
    {
      "cell_type": "code",
      "metadata": {
        "colab": {
          "base_uri": "https://localhost:8080/",
          "height": 530
        },
        "id": "o0lMh4-EEEbC",
        "outputId": "7e055630-6608-4b7d-8add-46f0e6b624b2"
      },
      "source": [
        "## Predicting the price of the next 50 days\n",
        "predictions = model.predict(x_test[-50:])\n",
        "predictions = scaler.inverse_transform(predictions)\n",
        "y_test_scaled = scaler.inverse_transform(y_test.reshape(-1, 1))\n",
        "\n",
        "# Set the right time on the x axis\n",
        "x_t = stock_data.index[int(stock_data.index.shape[0]*0.8):]\n",
        "x_t = x_t[50:]\n",
        "x_t=x_t[-50:]\n",
        "fig, ax = plt.subplots(figsize=(16,8))\n",
        "ax.set_facecolor('#000041')\n",
        "ax.plot(x_t[-50:], y_test_scaled[-50:], color='red', label='Original price')\n",
        "\n",
        "plt.plot(x_t[-50:], predictions[-50:], color='cyan', label='Predicted price')\n",
        "plt.ylabel(\"Stock price in Euro\")\n",
        "plt.xlabel(\"Time\")\n",
        "plt.title(\"BMW Stock Price Prediction with RNN\")\n",
        "plt.legend()"
      ],
      "execution_count": 104,
      "outputs": [
        {
          "output_type": "execute_result",
          "data": {
            "text/plain": [
              "<matplotlib.legend.Legend at 0x7fc5f4e9e050>"
            ]
          },
          "metadata": {
            "tags": []
          },
          "execution_count": 104
        },
        {
          "output_type": "display_data",
          "data": {
            "image/png": "[encoded data removed]",
            "text/plain": [
              "<Figure size 1152x576 with 1 Axes>"
            ]
          },
          "metadata": {
            "tags": [],
            "needs_background": "light"
          }
        }
      ]
    },
    {
      "cell_type": "markdown",
      "metadata": {
        "id": "AMQ6hQQr6iLI"
      },
      "source": [
        "# Homework 1: Predict Covid 19 Incidence in Bavaria with RNNs"
      ]
    },
    {
      "cell_type": "code",
      "metadata": {
        "colab": {
          "base_uri": "https://localhost:8080/",
          "height": 419
        },
        "id": "ARUSECMrqwfL",
        "outputId": "ec0898e3-d233-45e7-b672-ba250909fbb1"
      },
      "source": [
        "# Downloading Data of Covid 19 cases in Bavaria\n",
        "\n",
        "covid_data = pd.read_csv(\"https://raw.githubusercontent.com/jgehrcke/covid-19-germany-gae/master/cases-rki-by-state.csv\")\n",
        "covid_data"
      ],
      "execution_count": 90,
      "outputs": [
        {
          "output_type": "execute_result",
          "data": {
            "text/html": [
              "<div>\n",
              "<style scoped>\n",
              "    .dataframe tbody tr th:only-of-type {\n",
              "        vertical-align: middle;\n",
              "    }\n",
              "\n",
              "    .dataframe tbody tr th {\n",
              "        vertical-align: top;\n",
              "    }\n",
              "\n",
              "    .dataframe thead th {\n",
              "        text-align: right;\n",
              "    }\n",
              "</style>\n",
              "<table border=\"1\" class=\"dataframe\">\n",
              "  <thead>\n",
              "    <tr style=\"text-align: right;\">\n",
              "      <th></th>\n",
              "      <th>time_iso8601</th>\n",
              "      <th>DE-BB</th>\n",
              "      <th>DE-BE</th>\n",
              "      <th>DE-BW</th>\n",
              "      <th>DE-BY</th>\n",
              "      <th>DE-HB</th>\n",
              "      <th>DE-HE</th>\n",
              "      <th>DE-HH</th>\n",
              "      <th>DE-MV</th>\n",
              "      <th>DE-NI</th>\n",
              "      <th>DE-NW</th>\n",
              "      <th>DE-RP</th>\n",
              "      <th>DE-SH</th>\n",
              "      <th>DE-SL</th>\n",
              "      <th>DE-SN</th>\n",
              "      <th>DE-ST</th>\n",
              "      <th>DE-TH</th>\n",
              "      <th>sum_cases</th>\n",
              "    </tr>\n",
              "  </thead>\n",
              "  <tbody>\n",
              "    <tr>\n",
              "      <th>0</th>\n",
              "      <td>2020-03-02T17:00:00+0000</td>\n",
              "      <td>2</td>\n",
              "      <td>0</td>\n",
              "      <td>30</td>\n",
              "      <td>34</td>\n",
              "      <td>2</td>\n",
              "      <td>9</td>\n",
              "      <td>2</td>\n",
              "      <td>0</td>\n",
              "      <td>4</td>\n",
              "      <td>116</td>\n",
              "      <td>2</td>\n",
              "      <td>4</td>\n",
              "      <td>3</td>\n",
              "      <td>1</td>\n",
              "      <td>0</td>\n",
              "      <td>0</td>\n",
              "      <td>209</td>\n",
              "    </tr>\n",
              "    <tr>\n",
              "      <th>1</th>\n",
              "      <td>2020-03-03T17:00:00+0000</td>\n",
              "      <td>2</td>\n",
              "      <td>6</td>\n",
              "      <td>54</td>\n",
              "      <td>40</td>\n",
              "      <td>4</td>\n",
              "      <td>13</td>\n",
              "      <td>5</td>\n",
              "      <td>2</td>\n",
              "      <td>10</td>\n",
              "      <td>145</td>\n",
              "      <td>3</td>\n",
              "      <td>5</td>\n",
              "      <td>3</td>\n",
              "      <td>1</td>\n",
              "      <td>0</td>\n",
              "      <td>1</td>\n",
              "      <td>294</td>\n",
              "    </tr>\n",
              "    <tr>\n",
              "      <th>2</th>\n",
              "      <td>2020-03-04T17:00:00+0000</td>\n",
              "      <td>2</td>\n",
              "      <td>9</td>\n",
              "      <td>92</td>\n",
              "      <td>50</td>\n",
              "      <td>4</td>\n",
              "      <td>15</td>\n",
              "      <td>6</td>\n",
              "      <td>4</td>\n",
              "      <td>14</td>\n",
              "      <td>235</td>\n",
              "      <td>7</td>\n",
              "      <td>5</td>\n",
              "      <td>3</td>\n",
              "      <td>1</td>\n",
              "      <td>0</td>\n",
              "      <td>1</td>\n",
              "      <td>448</td>\n",
              "    </tr>\n",
              "    <tr>\n",
              "      <th>3</th>\n",
              "      <td>2020-03-05T17:00:00+0000</td>\n",
              "      <td>4</td>\n",
              "      <td>19</td>\n",
              "      <td>128</td>\n",
              "      <td>69</td>\n",
              "      <td>4</td>\n",
              "      <td>21</td>\n",
              "      <td>11</td>\n",
              "      <td>5</td>\n",
              "      <td>20</td>\n",
              "      <td>332</td>\n",
              "      <td>8</td>\n",
              "      <td>6</td>\n",
              "      <td>3</td>\n",
              "      <td>1</td>\n",
              "      <td>0</td>\n",
              "      <td>1</td>\n",
              "      <td>632</td>\n",
              "    </tr>\n",
              "    <tr>\n",
              "      <th>4</th>\n",
              "      <td>2020-03-06T17:00:00+0000</td>\n",
              "      <td>4</td>\n",
              "      <td>24</td>\n",
              "      <td>179</td>\n",
              "      <td>120</td>\n",
              "      <td>4</td>\n",
              "      <td>22</td>\n",
              "      <td>14</td>\n",
              "      <td>5</td>\n",
              "      <td>27</td>\n",
              "      <td>394</td>\n",
              "      <td>10</td>\n",
              "      <td>8</td>\n",
              "      <td>3</td>\n",
              "      <td>3</td>\n",
              "      <td>0</td>\n",
              "      <td>1</td>\n",
              "      <td>818</td>\n",
              "    </tr>\n",
              "    <tr>\n",
              "      <th>...</th>\n",
              "      <td>...</td>\n",
              "      <td>...</td>\n",
              "      <td>...</td>\n",
              "      <td>...</td>\n",
              "      <td>...</td>\n",
              "      <td>...</td>\n",
              "      <td>...</td>\n",
              "      <td>...</td>\n",
              "      <td>...</td>\n",
              "      <td>...</td>\n",
              "      <td>...</td>\n",
              "      <td>...</td>\n",
              "      <td>...</td>\n",
              "      <td>...</td>\n",
              "      <td>...</td>\n",
              "      <td>...</td>\n",
              "      <td>...</td>\n",
              "      <td>...</td>\n",
              "    </tr>\n",
              "    <tr>\n",
              "      <th>457</th>\n",
              "      <td>2021-06-02T17:00:00+0000</td>\n",
              "      <td>108414</td>\n",
              "      <td>178746</td>\n",
              "      <td>494269</td>\n",
              "      <td>641135</td>\n",
              "      <td>27153</td>\n",
              "      <td>287644</td>\n",
              "      <td>76454</td>\n",
              "      <td>43936</td>\n",
              "      <td>258939</td>\n",
              "      <td>808181</td>\n",
              "      <td>153363</td>\n",
              "      <td>63242</td>\n",
              "      <td>40937</td>\n",
              "      <td>284508</td>\n",
              "      <td>98684</td>\n",
              "      <td>127854</td>\n",
              "      <td>3693459</td>\n",
              "    </tr>\n",
              "    <tr>\n",
              "      <th>458</th>\n",
              "      <td>2021-06-03T17:00:00+0000</td>\n",
              "      <td>108472</td>\n",
              "      <td>178965</td>\n",
              "      <td>494776</td>\n",
              "      <td>641542</td>\n",
              "      <td>27193</td>\n",
              "      <td>287927</td>\n",
              "      <td>76518</td>\n",
              "      <td>43949</td>\n",
              "      <td>259167</td>\n",
              "      <td>808797</td>\n",
              "      <td>153504</td>\n",
              "      <td>63286</td>\n",
              "      <td>40981</td>\n",
              "      <td>284640</td>\n",
              "      <td>98745</td>\n",
              "      <td>127942</td>\n",
              "      <td>3696404</td>\n",
              "    </tr>\n",
              "    <tr>\n",
              "      <th>459</th>\n",
              "      <td>2021-06-04T17:00:00+0000</td>\n",
              "      <td>108514</td>\n",
              "      <td>179097</td>\n",
              "      <td>494922</td>\n",
              "      <td>641862</td>\n",
              "      <td>27218</td>\n",
              "      <td>288055</td>\n",
              "      <td>76574</td>\n",
              "      <td>43971</td>\n",
              "      <td>259304</td>\n",
              "      <td>809401</td>\n",
              "      <td>153641</td>\n",
              "      <td>63337</td>\n",
              "      <td>41003</td>\n",
              "      <td>284760</td>\n",
              "      <td>98792</td>\n",
              "      <td>128045</td>\n",
              "      <td>3698496</td>\n",
              "    </tr>\n",
              "    <tr>\n",
              "      <th>460</th>\n",
              "      <td>2021-06-05T17:00:00+0000</td>\n",
              "      <td>108538</td>\n",
              "      <td>179119</td>\n",
              "      <td>495303</td>\n",
              "      <td>642312</td>\n",
              "      <td>27237</td>\n",
              "      <td>288271</td>\n",
              "      <td>76598</td>\n",
              "      <td>43987</td>\n",
              "      <td>259429</td>\n",
              "      <td>809876</td>\n",
              "      <td>153760</td>\n",
              "      <td>63377</td>\n",
              "      <td>41036</td>\n",
              "      <td>284866</td>\n",
              "      <td>98848</td>\n",
              "      <td>128125</td>\n",
              "      <td>3700682</td>\n",
              "    </tr>\n",
              "    <tr>\n",
              "      <th>461</th>\n",
              "      <td>2021-06-06T17:00:00+0000</td>\n",
              "      <td>108560</td>\n",
              "      <td>179121</td>\n",
              "      <td>495492</td>\n",
              "      <td>642505</td>\n",
              "      <td>27247</td>\n",
              "      <td>288323</td>\n",
              "      <td>76598</td>\n",
              "      <td>43990</td>\n",
              "      <td>259459</td>\n",
              "      <td>810086</td>\n",
              "      <td>153788</td>\n",
              "      <td>63384</td>\n",
              "      <td>41045</td>\n",
              "      <td>284884</td>\n",
              "      <td>98867</td>\n",
              "      <td>128135</td>\n",
              "      <td>3701484</td>\n",
              "    </tr>\n",
              "  </tbody>\n",
              "</table>\n",
              "<p>462 rows × 18 columns</p>\n",
              "</div>"
            ],
            "text/plain": [
              "                 time_iso8601   DE-BB   DE-BE  ...  DE-ST   DE-TH  sum_cases\n",
              "0    2020-03-02T17:00:00+0000       2       0  ...      0       0        209\n",
              "1    2020-03-03T17:00:00+0000       2       6  ...      0       1        294\n",
              "2    2020-03-04T17:00:00+0000       2       9  ...      0       1        448\n",
              "3    2020-03-05T17:00:00+0000       4      19  ...      0       1        632\n",
              "4    2020-03-06T17:00:00+0000       4      24  ...      0       1        818\n",
              "..                        ...     ...     ...  ...    ...     ...        ...\n",
              "457  2021-06-02T17:00:00+0000  108414  178746  ...  98684  127854    3693459\n",
              "458  2021-06-03T17:00:00+0000  108472  178965  ...  98745  127942    3696404\n",
              "459  2021-06-04T17:00:00+0000  108514  179097  ...  98792  128045    3698496\n",
              "460  2021-06-05T17:00:00+0000  108538  179119  ...  98848  128125    3700682\n",
              "461  2021-06-06T17:00:00+0000  108560  179121  ...  98867  128135    3701484\n",
              "\n",
              "[462 rows x 18 columns]"
            ]
          },
          "metadata": {
            "tags": []
          },
          "execution_count": 90
        }
      ]
    },
    {
      "cell_type": "markdown",
      "metadata": {
        "id": "MOBtizfqEM-4"
      },
      "source": [
        "# Homework 2: Adjust the network depth. What effect are you encountering?"
      ]
    },
    {
      "cell_type": "code",
      "metadata": {
        "colab": {
          "base_uri": "https://localhost:8080/"
        },
        "id": "RJUsgwj-q3SA",
        "outputId": "cec25af1-a0b4-4db3-886d-9eae232206fc"
      },
      "source": [
        "x_test.shape"
      ],
      "execution_count": 107,
      "outputs": [
        {
          "output_type": "execute_result",
          "data": {
            "text/plain": [
              "(1210, 50, 1)"
            ]
          },
          "metadata": {
            "tags": []
          },
          "execution_count": 107
        }
      ]
    },
    {
      "cell_type": "code",
      "metadata": {
        "id": "xU2mNweUGrgt"
      },
      "source": [
        ""
      ],
      "execution_count": null,
      "outputs": []
    }
  ]
}